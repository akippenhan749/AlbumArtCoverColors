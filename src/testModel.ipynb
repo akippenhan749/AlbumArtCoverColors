{
 "cells": [
  {
   "cell_type": "code",
   "execution_count": 3,
   "metadata": {},
   "outputs": [],
   "source": [
    "# Import packages\n",
    "import keras\n",
    "import pandas as pd \n",
    "import numpy as np \n",
    "from tqdm import tqdm\n",
    "from keras.preprocessing import image\n",
    "import matplotlib.pyplot as plt\n",
    "import cv2\n",
    "from PIL import Image\n",
    "from keras.models import load_model\n",
    "import pandas as pd\n",
    "import numpy as np\n",
    "import keras\n",
    "from keras.models import Sequential\n",
    "from keras.layers import Dense, Dropout, Flatten\n",
    "from keras.layers import Conv2D, MaxPooling2D\n",
    "from keras.callbacks import EarlyStopping\n",
    "from keras.callbacks import ModelCheckpoint\n",
    "from keras.preprocessing.image import ImageDataGenerator\n",
    "import tensorflow as tf\n",
    "from keras import models\n",
    "from keras import layers\n",
    "from keras import optimizers\n",
    "import sklearn\n",
    "from sklearn.model_selection import train_test_split\n",
    "from statistics import mean\n",
    "import unidecode"
   ]
  },
  {
   "cell_type": "code",
   "execution_count": 4,
   "metadata": {},
   "outputs": [],
   "source": [
    "def arrange_data(df):\n",
    "    \n",
    "    image_data = []\n",
    "    img_paths = np.asarray(df.iloc[:, 0]) #First column is the image paths\n",
    "    \n",
    "    for i in tqdm(range(len(img_paths))):\n",
    "    \n",
    "        img = tf.keras.utils.load_img(img_paths[i],target_size=(200,150,3))\n",
    "        img = tf.keras.utils.img_to_array(img)\n",
    "        img = img/255\n",
    "        image_data.append(img)\n",
    "        \n",
    "        \n",
    "    X = np.array(image_data)\n",
    "    Y = np.array(df.iloc[:,1:7])\n",
    "    \n",
    "    return X, Y"
   ]
  },
  {
   "cell_type": "code",
   "execution_count": 6,
   "metadata": {},
   "outputs": [],
   "source": [
    "# Load the model in\n",
    "model = load_model('Model_4d.h5')"
   ]
  },
  {
   "cell_type": "code",
   "execution_count": 7,
   "metadata": {},
   "outputs": [
    {
     "name": "stderr",
     "output_type": "stream",
     "text": [
      "100%|██████████| 637/637 [00:03<00:00, 180.04it/s]\n"
     ]
    }
   ],
   "source": [
    "test_df = pd.read_csv('testingData.csv')\n",
    "\n",
    "test_df['Image Path'] = test_df['Image Path'].str.replace('/Users/johnhope/Desktop/GitHub/AlbumArtCoverColors/data/','')\n",
    "test_df['Image Path'] = test_df['Image Path'].str.replace('/images','')\n",
    "\n",
    "X_test, Y_test = arrange_data(test_df)"
   ]
  },
  {
   "cell_type": "code",
   "execution_count": 8,
   "metadata": {},
   "outputs": [
    {
     "name": "stdout",
     "output_type": "stream",
     "text": [
      "20/20 [==============================] - 68s 3s/step\n"
     ]
    }
   ],
   "source": [
    "# Make predictions\n",
    "pred = model.predict(np.array(X_test))\n",
    "\n",
    "# Choose highest probability as predicted genre\n",
    "pred_genre = np.zeros_like(pred)\n",
    "pred_genre[np.arange(len(pred)), pred.argmax(1)] = 1\n",
    "pred_genre=pred_genre.astype(int)"
   ]
  },
  {
   "cell_type": "code",
   "execution_count": 44,
   "metadata": {},
   "outputs": [
    {
     "data": {
      "text/plain": [
       "0.2794348508634223"
      ]
     },
     "execution_count": 44,
     "metadata": {},
     "output_type": "execute_result"
    }
   ],
   "source": [
    "count = 0\n",
    "for i in range(0,len(pred_genre)-1):\n",
    "        if list(pred_genre[i]) == list(Y_test[i]):\n",
    "            count += 1\n",
    "        \n",
    "count/len(pred_genre) # accuracy"
   ]
  }
 ],
 "metadata": {
  "kernelspec": {
   "display_name": "Python 3",
   "language": "python",
   "name": "python3"
  },
  "language_info": {
   "codemirror_mode": {
    "name": "ipython",
    "version": 3
   },
   "file_extension": ".py",
   "mimetype": "text/x-python",
   "name": "python",
   "nbconvert_exporter": "python",
   "pygments_lexer": "ipython3",
   "version": "3.8.8"
  }
 },
 "nbformat": 4,
 "nbformat_minor": 4
}
